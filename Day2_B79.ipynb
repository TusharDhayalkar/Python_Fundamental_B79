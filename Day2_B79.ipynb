{
 "cells": [
  {
   "cell_type": "code",
   "execution_count": null,
   "id": "9cf71843",
   "metadata": {},
   "outputs": [],
   "source": [
    "Rule 1: No name space while declaring the number"
   ]
  },
  {
   "cell_type": "code",
   "execution_count": 4,
   "id": "76a9cce7",
   "metadata": {},
   "outputs": [
    {
     "name": "stdout",
     "output_type": "stream",
     "text": [
      "Tushar\n"
     ]
    }
   ],
   "source": [
    "firstname = 'Tushar'\n",
    "print(firstname)"
   ]
  },
  {
   "cell_type": "code",
   "execution_count": 6,
   "id": "92d2c8e9",
   "metadata": {},
   "outputs": [
    {
     "name": "stdout",
     "output_type": "stream",
     "text": [
      "Tushar\n"
     ]
    }
   ],
   "source": [
    "first_name =\"Tushar\"\n",
    "print (firstname)"
   ]
  },
  {
   "cell_type": "code",
   "execution_count": null,
   "id": "7347b8a3",
   "metadata": {},
   "outputs": [],
   "source": [
    "Rule-2 Veriable name not start with number **"
   ]
  },
  {
   "cell_type": "code",
   "execution_count": 10,
   "id": "f20ebcae",
   "metadata": {},
   "outputs": [
    {
     "ename": "SyntaxError",
     "evalue": "invalid decimal literal (2212745892.py, line 1)",
     "output_type": "error",
     "traceback": [
      "\u001b[1;36m  Cell \u001b[1;32mIn[10], line 1\u001b[1;36m\u001b[0m\n\u001b[1;33m    1name = \"Tushar\"\u001b[0m\n\u001b[1;37m    ^\u001b[0m\n\u001b[1;31mSyntaxError\u001b[0m\u001b[1;31m:\u001b[0m invalid decimal literal\n"
     ]
    }
   ],
   "source": [
    "1name = \"Tushar\"\n",
    "Print(1name)"
   ]
  },
  {
   "cell_type": "code",
   "execution_count": 11,
   "id": "0704960c",
   "metadata": {},
   "outputs": [
    {
     "name": "stdout",
     "output_type": "stream",
     "text": [
      "Tushar\n"
     ]
    }
   ],
   "source": [
    "name1 = \"Tushar\"\n",
    "print(name1)"
   ]
  },
  {
   "cell_type": "code",
   "execution_count": null,
   "id": "0b106ed4",
   "metadata": {},
   "outputs": [],
   "source": [
    "Rule No 3: A veriable name should not contain any special character"
   ]
  },
  {
   "cell_type": "code",
   "execution_count": 13,
   "id": "7cd2fb9a",
   "metadata": {},
   "outputs": [
    {
     "ename": "SyntaxError",
     "evalue": "invalid syntax (3864650689.py, line 1)",
     "output_type": "error",
     "traceback": [
      "\u001b[1;36m  Cell \u001b[1;32mIn[13], line 1\u001b[1;36m\u001b[0m\n\u001b[1;33m    name@ = 'Amit'\u001b[0m\n\u001b[1;37m          ^\u001b[0m\n\u001b[1;31mSyntaxError\u001b[0m\u001b[1;31m:\u001b[0m invalid syntax\n"
     ]
    }
   ],
   "source": [
    "name@ = 'Amit'\n",
    "print(name@)"
   ]
  },
  {
   "cell_type": "code",
   "execution_count": null,
   "id": "34a7991f",
   "metadata": {},
   "outputs": [],
   "source": [
    "Introduction Data type in python"
   ]
  },
  {
   "cell_type": "code",
   "execution_count": null,
   "id": "3ffb377d",
   "metadata": {},
   "outputs": [],
   "source": [
    "1. String ---> str\n",
    "2. Numbers --> integers (int), float(decimals)\n",
    "3. lists ----> list\n",
    "4. tuples ----> tuple\n",
    "5. dictionaries ---> dict"
   ]
  },
  {
   "cell_type": "code",
   "execution_count": null,
   "id": "83e198d1",
   "metadata": {},
   "outputs": [],
   "source": []
  },
  {
   "cell_type": "code",
   "execution_count": null,
   "id": "6ab0819f",
   "metadata": {},
   "outputs": [],
   "source": [
    "Classification data type\n",
    "1.mutable datatype ---> which we can edit / alter\n",
    "2.immutable datatype ---> which can not to able to edit /alter\n",
    "\n"
   ]
  },
  {
   "cell_type": "code",
   "execution_count": 14,
   "id": "13ae564e",
   "metadata": {},
   "outputs": [
    {
     "name": "stdout",
     "output_type": "stream",
     "text": [
      "Vijay\n"
     ]
    }
   ],
   "source": [
    "name = 'Vijay'  #single quote\n",
    "print(name)"
   ]
  },
  {
   "cell_type": "code",
   "execution_count": 15,
   "id": "1ec0d0eb",
   "metadata": {},
   "outputs": [
    {
     "name": "stdout",
     "output_type": "stream",
     "text": [
      "Sanjay\n"
     ]
    }
   ],
   "source": [
    "name1 = \"Sanjay\" #double quote\n",
    "print(name1)"
   ]
  },
  {
   "cell_type": "code",
   "execution_count": 16,
   "id": "763856e8",
   "metadata": {},
   "outputs": [
    {
     "data": {
      "text/plain": [
       "str"
      ]
     },
     "execution_count": 16,
     "metadata": {},
     "output_type": "execute_result"
    }
   ],
   "source": [
    "type(name)"
   ]
  },
  {
   "cell_type": "code",
   "execution_count": 17,
   "id": "e4374f45",
   "metadata": {},
   "outputs": [
    {
     "data": {
      "text/plain": [
       "str"
      ]
     },
     "execution_count": 17,
     "metadata": {},
     "output_type": "execute_result"
    }
   ],
   "source": [
    "type(name1)"
   ]
  },
  {
   "cell_type": "code",
   "execution_count": 18,
   "id": "57204282",
   "metadata": {},
   "outputs": [
    {
     "name": "stdout",
     "output_type": "stream",
     "text": [
      "kadam\n"
     ]
    }
   ],
   "source": [
    "fullname = \"kadam\"\n",
    "print(fullname)"
   ]
  },
  {
   "cell_type": "code",
   "execution_count": 19,
   "id": "760633a7",
   "metadata": {},
   "outputs": [
    {
     "name": "stdout",
     "output_type": "stream",
     "text": [
      "Kadam\n"
     ]
    }
   ],
   "source": [
    "print(fullname.title())"
   ]
  },
  {
   "cell_type": "code",
   "execution_count": null,
   "id": "52305afb",
   "metadata": {},
   "outputs": [],
   "source": [
    "Fullname in capital"
   ]
  },
  {
   "cell_type": "code",
   "execution_count": 20,
   "id": "278fecfd",
   "metadata": {},
   "outputs": [
    {
     "name": "stdout",
     "output_type": "stream",
     "text": [
      "KADAM\n"
     ]
    }
   ],
   "source": [
    "print(fullname.upper())"
   ]
  },
  {
   "cell_type": "code",
   "execution_count": null,
   "id": "ad594ad4",
   "metadata": {},
   "outputs": [],
   "source": [
    "name in small case letters"
   ]
  },
  {
   "cell_type": "code",
   "execution_count": 21,
   "id": "78e51ce1",
   "metadata": {},
   "outputs": [
    {
     "name": "stdout",
     "output_type": "stream",
     "text": [
      "kadam\n"
     ]
    }
   ],
   "source": [
    "print(fullname.lower())"
   ]
  },
  {
   "cell_type": "code",
   "execution_count": 22,
   "id": "438435af",
   "metadata": {},
   "outputs": [
    {
     "name": "stdout",
     "output_type": "stream",
     "text": [
      "The Zen of Python, by Tim Peters\n",
      "\n",
      "Beautiful is better than ugly.\n",
      "Explicit is better than implicit.\n",
      "Simple is better than complex.\n",
      "Complex is better than complicated.\n",
      "Flat is better than nested.\n",
      "Sparse is better than dense.\n",
      "Readability counts.\n",
      "Special cases aren't special enough to break the rules.\n",
      "Although practicality beats purity.\n",
      "Errors should never pass silently.\n",
      "Unless explicitly silenced.\n",
      "In the face of ambiguity, refuse the temptation to guess.\n",
      "There should be one-- and preferably only one --obvious way to do it.\n",
      "Although that way may not be obvious at first unless you're Dutch.\n",
      "Now is better than never.\n",
      "Although never is often better than *right* now.\n",
      "If the implementation is hard to explain, it's a bad idea.\n",
      "If the implementation is easy to explain, it may be a good idea.\n",
      "Namespaces are one honking great idea -- let's do more of those!\n"
     ]
    }
   ],
   "source": [
    "import this"
   ]
  },
  {
   "cell_type": "code",
   "execution_count": null,
   "id": "07c1c1ce",
   "metadata": {},
   "outputs": [],
   "source": []
  },
  {
   "cell_type": "code",
   "execution_count": null,
   "id": "e8252999",
   "metadata": {},
   "outputs": [],
   "source": []
  },
  {
   "cell_type": "code",
   "execution_count": null,
   "id": "4743dd13",
   "metadata": {},
   "outputs": [],
   "source": []
  },
  {
   "cell_type": "code",
   "execution_count": null,
   "id": "aafb8910",
   "metadata": {},
   "outputs": [],
   "source": []
  },
  {
   "cell_type": "code",
   "execution_count": null,
   "id": "348e9cd8",
   "metadata": {},
   "outputs": [],
   "source": []
  },
  {
   "cell_type": "code",
   "execution_count": null,
   "id": "e8983651",
   "metadata": {},
   "outputs": [],
   "source": []
  },
  {
   "cell_type": "code",
   "execution_count": null,
   "id": "2c47bb25",
   "metadata": {},
   "outputs": [],
   "source": []
  },
  {
   "cell_type": "code",
   "execution_count": null,
   "id": "aaca322d",
   "metadata": {},
   "outputs": [],
   "source": []
  }
 ],
 "metadata": {
  "kernelspec": {
   "display_name": "Python 3 (ipykernel)",
   "language": "python",
   "name": "python3"
  },
  "language_info": {
   "codemirror_mode": {
    "name": "ipython",
    "version": 3
   },
   "file_extension": ".py",
   "mimetype": "text/x-python",
   "name": "python",
   "nbconvert_exporter": "python",
   "pygments_lexer": "ipython3",
   "version": "3.11.3"
  }
 },
 "nbformat": 4,
 "nbformat_minor": 5
}
