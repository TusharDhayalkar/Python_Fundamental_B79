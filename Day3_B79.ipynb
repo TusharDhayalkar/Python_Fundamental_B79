{
 "cells": [
  {
   "cell_type": "code",
   "execution_count": 1,
   "id": "3f6122e2",
   "metadata": {},
   "outputs": [],
   "source": [
    "firstname = 'amit'\n",
    "lastname = 'kadam'"
   ]
  },
  {
   "cell_type": "code",
   "execution_count": null,
   "id": "14aca705",
   "metadata": {},
   "outputs": [],
   "source": [
    "f strings :\n",
    "    \n",
    "f\"custom message , {place_holder-1} {place_holder 2}.....{place_holder_n}\""
   ]
  },
  {
   "cell_type": "code",
   "execution_count": 3,
   "id": "387b4c07",
   "metadata": {},
   "outputs": [
    {
     "name": "stdout",
     "output_type": "stream",
     "text": [
      "amit kadam\n"
     ]
    }
   ],
   "source": [
    "fullname = f\"{firstname} {lastname}\"\n",
    "print(fullname)"
   ]
  },
  {
   "cell_type": "code",
   "execution_count": 6,
   "id": "da231995",
   "metadata": {},
   "outputs": [
    {
     "name": "stdout",
     "output_type": "stream",
     "text": [
      "keep up the good work, amit kadam\n"
     ]
    }
   ],
   "source": [
    "message = f\"keep up the good work, {fullname}\"\n",
    "print(message)"
   ]
  },
  {
   "cell_type": "code",
   "execution_count": 7,
   "id": "d7be1066",
   "metadata": {},
   "outputs": [
    {
     "name": "stdout",
     "output_type": "stream",
     "text": [
      "fev_lang:paythanjavac++swiftjavascript\n"
     ]
    }
   ],
   "source": [
    "print(\"fev_lang:paythanjavac++swiftjavascript\")"
   ]
  },
  {
   "cell_type": "code",
   "execution_count": 8,
   "id": "881aeb05",
   "metadata": {},
   "outputs": [
    {
     "name": "stdout",
     "output_type": "stream",
     "text": [
      "fev_lang:\n",
      "paythan\n",
      "java\n",
      "c++\n",
      "swift\n",
      "javascrip\n"
     ]
    }
   ],
   "source": [
    "print(\"fev_lang:\\npaythan\\njava\\nc++\\nswift\\njavascrip\")"
   ]
  },
  {
   "cell_type": "code",
   "execution_count": 9,
   "id": "81ff7f8e",
   "metadata": {},
   "outputs": [
    {
     "name": "stdout",
     "output_type": "stream",
     "text": [
      "fev_lang:\n",
      "\tpaythan\n",
      "\tjava\n",
      "\tc++\n",
      "\tswift\n",
      "\tjavascrip\n"
     ]
    }
   ],
   "source": [
    "print(\"fev_lang:\\n\\tpaythan\\n\\tjava\\n\\tc++\\n\\tswift\\n\\tjavascrip\")"
   ]
  },
  {
   "cell_type": "code",
   "execution_count": 14,
   "id": "a0abe8ac",
   "metadata": {},
   "outputs": [
    {
     "name": "stdout",
     "output_type": "stream",
     "text": [
      " python\n"
     ]
    }
   ],
   "source": [
    "language = ' python'\n",
    "print(language)"
   ]
  },
  {
   "cell_type": "code",
   "execution_count": 15,
   "id": "fe7245e8",
   "metadata": {},
   "outputs": [
    {
     "name": "stdout",
     "output_type": "stream",
     "text": [
      "python \n"
     ]
    }
   ],
   "source": [
    "language2 = 'python '\n",
    "print(language2)"
   ]
  },
  {
   "cell_type": "code",
   "execution_count": 16,
   "id": "40c244b9",
   "metadata": {},
   "outputs": [
    {
     "name": "stdout",
     "output_type": "stream",
     "text": [
      " python \n"
     ]
    }
   ],
   "source": [
    "language3 = ' python '\n",
    "print(language3)"
   ]
  },
  {
   "cell_type": "code",
   "execution_count": 17,
   "id": "1ac19918",
   "metadata": {},
   "outputs": [
    {
     "data": {
      "text/plain": [
       "'python'"
      ]
     },
     "execution_count": 17,
     "metadata": {},
     "output_type": "execute_result"
    }
   ],
   "source": [
    "language.lstrip()"
   ]
  },
  {
   "cell_type": "code",
   "execution_count": 18,
   "id": "031162f5",
   "metadata": {},
   "outputs": [
    {
     "data": {
      "text/plain": [
       "' python'"
      ]
     },
     "execution_count": 18,
     "metadata": {},
     "output_type": "execute_result"
    }
   ],
   "source": [
    "language.rstrip()"
   ]
  },
  {
   "cell_type": "code",
   "execution_count": 19,
   "id": "9c848b71",
   "metadata": {},
   "outputs": [
    {
     "data": {
      "text/plain": [
       "'python'"
      ]
     },
     "execution_count": 19,
     "metadata": {},
     "output_type": "execute_result"
    }
   ],
   "source": [
    "language.strip()"
   ]
  },
  {
   "cell_type": "code",
   "execution_count": null,
   "id": "78f85b74",
   "metadata": {},
   "outputs": [],
   "source": []
  },
  {
   "cell_type": "code",
   "execution_count": null,
   "id": "73e7641d",
   "metadata": {},
   "outputs": [],
   "source": []
  },
  {
   "cell_type": "code",
   "execution_count": null,
   "id": "dc08ff8f",
   "metadata": {},
   "outputs": [],
   "source": []
  },
  {
   "cell_type": "code",
   "execution_count": null,
   "id": "85ee986b",
   "metadata": {},
   "outputs": [],
   "source": []
  },
  {
   "cell_type": "code",
   "execution_count": null,
   "id": "b9cd2c1d",
   "metadata": {},
   "outputs": [],
   "source": []
  },
  {
   "cell_type": "code",
   "execution_count": null,
   "id": "5f441ecb",
   "metadata": {},
   "outputs": [],
   "source": []
  },
  {
   "cell_type": "code",
   "execution_count": null,
   "id": "73e12da1",
   "metadata": {},
   "outputs": [],
   "source": []
  },
  {
   "cell_type": "code",
   "execution_count": null,
   "id": "cf1d4597",
   "metadata": {},
   "outputs": [],
   "source": []
  },
  {
   "cell_type": "code",
   "execution_count": null,
   "id": "20010a84",
   "metadata": {},
   "outputs": [],
   "source": []
  },
  {
   "cell_type": "code",
   "execution_count": null,
   "id": "942f24dc",
   "metadata": {},
   "outputs": [],
   "source": []
  },
  {
   "cell_type": "code",
   "execution_count": null,
   "id": "57339f33",
   "metadata": {},
   "outputs": [],
   "source": []
  },
  {
   "cell_type": "code",
   "execution_count": null,
   "id": "0c8aa346",
   "metadata": {},
   "outputs": [],
   "source": []
  },
  {
   "cell_type": "code",
   "execution_count": null,
   "id": "a16cb1db",
   "metadata": {},
   "outputs": [],
   "source": []
  },
  {
   "cell_type": "code",
   "execution_count": null,
   "id": "5d6fce8e",
   "metadata": {},
   "outputs": [],
   "source": []
  },
  {
   "cell_type": "code",
   "execution_count": null,
   "id": "1dbce188",
   "metadata": {},
   "outputs": [],
   "source": []
  },
  {
   "cell_type": "code",
   "execution_count": null,
   "id": "1224c985",
   "metadata": {},
   "outputs": [],
   "source": []
  }
 ],
 "metadata": {
  "kernelspec": {
   "display_name": "Python 3 (ipykernel)",
   "language": "python",
   "name": "python3"
  },
  "language_info": {
   "codemirror_mode": {
    "name": "ipython",
    "version": 3
   },
   "file_extension": ".py",
   "mimetype": "text/x-python",
   "name": "python",
   "nbconvert_exporter": "python",
   "pygments_lexer": "ipython3",
   "version": "3.11.3"
  }
 },
 "nbformat": 4,
 "nbformat_minor": 5
}
